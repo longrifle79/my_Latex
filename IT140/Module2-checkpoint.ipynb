{
 "cells": [
  {
   "cell_type": "code",
   "execution_count": null,
   "id": "edb5d147",
   "metadata": {},
   "outputs": [],
   "source": [
    "user_name = input('What is your name? ')  \n",
    "user_age = int(input('How old are you? '))  \n",
    "current_year = 2025\n",
    "birth_year = current_year - user_age\n",
    "print(f'Hello {user_name}! You were born in {birth_year}.')"
   ]
  }
 ],
 "metadata": {
  "kernelspec": {
   "display_name": "Python 3 (ipykernel)",
   "language": "python",
   "name": "python3"
  },
  "language_info": {
   "codemirror_mode": {
    "name": "ipython",
    "version": 3
   },
   "file_extension": ".py",
   "mimetype": "text/x-python",
   "name": "python",
   "nbconvert_exporter": "python",
   "pygments_lexer": "ipython3",
   "version": "3.8.16"
  }
 },
 "nbformat": 4,
 "nbformat_minor": 5
}
